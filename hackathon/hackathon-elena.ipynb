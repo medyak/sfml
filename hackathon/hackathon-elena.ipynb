{
 "cells": [
  {
   "cell_type": "code",
   "execution_count": 1,
   "metadata": {},
   "outputs": [],
   "source": [
    "from sklearn.model_selection import train_test_split, cross_val_score\n",
    "from sklearn.model_selection import StratifiedKFold\n",
    "import seaborn as sns\n",
    "import datetime as dt\n",
    "import pandas as pd\n",
    "import numpy as np\n",
    "import matplotlib.pyplot as plt\n",
    "from sklearn.preprocessing import OneHotEncoder\n",
    "\n",
    "%matplotlib inline"
   ]
  },
  {
   "cell_type": "code",
   "execution_count": 2,
   "metadata": {},
   "outputs": [],
   "source": [
    "import pickle\n",
    "\n",
    "with open('train_hack.pckl', 'rb') as f:\n",
    "    train_hack = pickle.load(f)"
   ]
  },
  {
   "cell_type": "code",
   "execution_count": 3,
   "metadata": {},
   "outputs": [
    {
     "name": "stdout",
     "output_type": "stream",
     "text": [
      "<class 'pandas.core.frame.DataFrame'>\n",
      "Int64Index: 1748890 entries, 0 to 99930\n",
      "Data columns (total 17 columns):\n",
      "can_buy               bool\n",
      "can_promote           bool\n",
      "category              int64\n",
      "contacts_visible      bool\n",
      "date_created          int64\n",
      "delivery_available    bool\n",
      "description           object\n",
      "fields                object\n",
      "id                    object\n",
      "images                object\n",
      "location              object\n",
      "mortgage_available    bool\n",
      "name                  object\n",
      "payment_available     bool\n",
      "price                 int64\n",
      "subcategory           int64\n",
      "subway                object\n",
      "dtypes: bool(6), int64(4), object(7)\n",
      "memory usage: 170.1+ MB\n"
     ]
    }
   ],
   "source": [
    "train_hack.info()"
   ]
  },
  {
   "cell_type": "code",
   "execution_count": null,
   "metadata": {},
   "outputs": [],
   "source": [
    "with open('test_hack.pckl', 'rb') as f:\n",
    "    test_hack = pickle.load(f)"
   ]
  },
  {
   "cell_type": "code",
   "execution_count": null,
   "metadata": {},
   "outputs": [],
   "source": [
    "test_hack.info()"
   ]
  },
  {
   "cell_type": "code",
   "execution_count": 4,
   "metadata": {},
   "outputs": [],
   "source": [
    "def preproc_data(df_input):\n",
    "    df_output = df_input.copy()\n",
    "\n",
    " \n",
    "    df_output = df_output.drop(['images'], axis=1)\n",
    "    df_output = df_output.drop(['subcategory'], axis=1)\n",
    "    df_output = df_output.drop(['fields'], axis=1)\n",
    "    df_output = df_output.drop(['description'], axis=1)#иногда в этом поле какой-то словесный мусор. \n",
    "    df_output = df_output.drop(['date_created'], axis=1)\n",
    "    df_output = df_output.drop(['location'], axis=1)#можно было бы и с локацией попробовать..\n",
    "    df_output = df_output.drop(['subway'], axis=1)#в трейне только 235 записей с метро\n",
    "    df_output = df_output.drop(['name'], axis=1)#не успела досчитаться функция forest.fit с векторами до дедлайна... \n",
    "    df_output['mortgage_available']=df_output['mortgage_available'].map(lambda x: 1 if True else 0)\n",
    "    df_output['payment_available']=df_output['payment_available'].map(lambda x: 1 if True else 0)\n",
    "    df_output['delivery_available']=df_output['delivery_available'].map(lambda x: 1 if True else 0)\n",
    "    df_output['contacts_visible']=df_output['contacts_visible'].map(lambda x: 1 if True else 0)\n",
    "    df_output['can_promote']=df_output['can_promote'].map(lambda x: 1 if True else 0)\n",
    "    df_output['can_buy']=df_output['can_buy'].map(lambda x: 1 if True else 0)\n",
    "    df_output=df_output.reset_index(drop=True)\n",
    "\n",
    "    return df_output"
   ]
  },
  {
   "cell_type": "markdown",
   "metadata": {},
   "source": [
    "Я считала также rlmse и подбирала параметры для RandomForestRegressor, но решила убрать это из ноутбука, т.к. на результат конечный это не влияет"
   ]
  },
  {
   "cell_type": "code",
   "execution_count": 5,
   "metadata": {},
   "outputs": [],
   "source": [
    "bigtrain = train_hack.pipe(preproc_data)"
   ]
  },
  {
   "cell_type": "code",
   "execution_count": 6,
   "metadata": {},
   "outputs": [],
   "source": [
    "bigtrain['price']=bigtrain['price']/100"
   ]
  },
  {
   "cell_type": "code",
   "execution_count": 7,
   "metadata": {},
   "outputs": [
    {
     "name": "stdout",
     "output_type": "stream",
     "text": [
      "<class 'pandas.core.frame.DataFrame'>\n",
      "RangeIndex: 1748890 entries, 0 to 1748889\n",
      "Data columns (total 9 columns):\n",
      "can_buy               int64\n",
      "can_promote           int64\n",
      "category              int64\n",
      "contacts_visible      int64\n",
      "delivery_available    int64\n",
      "id                    object\n",
      "mortgage_available    int64\n",
      "payment_available     int64\n",
      "price                 float64\n",
      "dtypes: float64(1), int64(7), object(1)\n",
      "memory usage: 120.1+ MB\n"
     ]
    }
   ],
   "source": [
    "bigtrain.info()"
   ]
  },
  {
   "cell_type": "code",
   "execution_count": null,
   "metadata": {},
   "outputs": [],
   "source": [
    "bigtest = test_hack.pipe(preproc_data)"
   ]
  },
  {
   "cell_type": "code",
   "execution_count": 8,
   "metadata": {},
   "outputs": [],
   "source": [
    "ids = bigtrain['id']\n",
    "bigtrain = bigtrain.drop(['id'], axis=1)\n",
    "y = bigtrain['price']\n",
    "X = bigtrain.drop('price', axis=1)"
   ]
  },
  {
   "cell_type": "code",
   "execution_count": 11,
   "metadata": {},
   "outputs": [],
   "source": [
    "from sklearn.pipeline import Pipeline\n",
    "from sklearn.preprocessing import StandardScaler"
   ]
  },
  {
   "cell_type": "code",
   "execution_count": 12,
   "metadata": {},
   "outputs": [],
   "source": [
    "from sklearn.ensemble import RandomForestRegressor\n",
    "forest = Pipeline([\n",
    "    ('scaler', StandardScaler()),\n",
    "    ('forest', RandomForestRegressor(n_estimators=100, n_jobs=2))\n",
    "])"
   ]
  },
  {
   "cell_type": "code",
   "execution_count": 13,
   "metadata": {},
   "outputs": [
    {
     "data": {
      "text/plain": [
       "Pipeline(memory=None,\n",
       "     steps=[('scaler', StandardScaler(copy=True, with_mean=True, with_std=True)), ('forest', RandomForestRegressor(bootstrap=True, criterion='mse', max_depth=None,\n",
       "           max_features='auto', max_leaf_nodes=None,\n",
       "           min_impurity_decrease=0.0, min_impurity_split=None,\n",
       "           min_samples_leaf=1, min_samples_split=2,\n",
       "           min_weight_fraction_leaf=0.0, n_estimators=100, n_jobs=2,\n",
       "           oob_score=False, random_state=None, verbose=0, warm_start=False))])"
      ]
     },
     "execution_count": 13,
     "metadata": {},
     "output_type": "execute_result"
    }
   ],
   "source": [
    "forest.fit(X,y)"
   ]
  },
  {
   "cell_type": "code",
   "execution_count": null,
   "metadata": {},
   "outputs": [],
   "source": [
    "idsTest = bigtest['id']\n",
    "bigtest = bigtest.drop(['id'], axis=1)"
   ]
  },
  {
   "cell_type": "code",
   "execution_count": null,
   "metadata": {},
   "outputs": [],
   "source": [
    "forest_pred = forest.predict(bigtest)"
   ]
  },
  {
   "cell_type": "code",
   "execution_count": null,
   "metadata": {},
   "outputs": [],
   "source": [
    "submit = pd.DataFrame({'id':idsTest,'price':forest_pred})"
   ]
  },
  {
   "cell_type": "code",
   "execution_count": null,
   "metadata": {},
   "outputs": [],
   "source": [
    "submit.to_csv('submission1.csv', sep=',', index=False)"
   ]
  },
  {
   "cell_type": "code",
   "execution_count": null,
   "metadata": {},
   "outputs": [],
   "source": []
  }
 ],
 "metadata": {
  "kernelspec": {
   "display_name": "Python 3",
   "language": "python",
   "name": "python3"
  },
  "language_info": {
   "codemirror_mode": {
    "name": "ipython",
    "version": 3
   },
   "file_extension": ".py",
   "mimetype": "text/x-python",
   "name": "python",
   "nbconvert_exporter": "python",
   "pygments_lexer": "ipython3",
   "version": "3.7.0"
  }
 },
 "nbformat": 4,
 "nbformat_minor": 2
}
