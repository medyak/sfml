{
 "cells": [
  {
   "cell_type": "markdown",
   "metadata": {},
   "source": [
    "# Team 5\n",
    "\n",
    "## Team members\n",
    "***\n",
    "1. Нагорный Павел / NPV\n",
    "2. Elena Nazarenko \n",
    "3. Elena Popkova\n",
    "4. Ruslan Kamyshenkov / Kamyshenkov_Ruslan\n",
    "5. Mike Mednikov\n",
    "6. Vitaliy Glushchenko\n",
    "\n",
    "## Task\n",
    "***\n",
    "Нужно решить задачу с помощью 3х методов:\n",
    "1. кнн\n",
    "2. дерева принятия решения\n",
    "3. логистической регрессии\n",
    "\n",
    "Залить, на ваш взгляд, лучшее решение.\n",
    "\n",
    "Это командное ДЗ, его нужно выполнить совместно с вашими коллегами. Коммит делается от одного выбранного участника. Для зачета нужно:\n",
    "1. предоставить ноутбук с кодом, где вы попробовали все 3 метода\n",
    "2. залить предсказания для теста и найти себя в лидерборде\n",
    "\n",
    "Команда, занявшая 1 место, получит дополнительный балл. Метрика качества ROC-AUC. Дедлайн расширенный.\n",
    "\n",
    "Поехали..."
   ]
  },
  {
   "cell_type": "code",
   "execution_count": 1,
   "metadata": {},
   "outputs": [],
   "source": [
    "import pandas as pd\n",
    "\n",
    "from sklearn.model_selection import train_test_split\n",
    "\n",
    "from sklearn.pipeline import Pipeline\n",
    "from sklearn.preprocessing import StandardScaler\n",
    "from sklearn.neighbors import KNeighborsClassifier\n",
    "\n",
    "from sklearn.tree import DecisionTreeClassifier\n",
    "from sklearn.model_selection import StratifiedKFold, validation_curve\n",
    "from sklearn.linear_model import LogisticRegression\n",
    "\n",
    "from scipy.stats import randint as randint\n",
    "from scipy.stats import uniform\n",
    "\n",
    "from sklearn.model_selection import GridSearchCV\n",
    "from sklearn.model_selection import RandomizedSearchCV\n",
    "from sklearn.model_selection import StratifiedKFold\n",
    "\n",
    "from sklearn.metrics import precision_score\n",
    "from sklearn.metrics import recall_score\n",
    "from sklearn.metrics import accuracy_score\n",
    "from sklearn.metrics import classification_report\n",
    "from sklearn.metrics import roc_auc_score, roc_curve\n",
    "\n",
    "from sklearn.model_selection import cross_val_score\n",
    "\n",
    "from matplotlib import pyplot as plt\n",
    "%matplotlib inline\n",
    "\n",
    "def parse(object):\n",
    "    for i in object.columns:\n",
    "        if str(object[i].dtype) == 'object':\n",
    "            print(\"\\n=================\\ncolumn: \",i,\"\\n\")\n",
    "            print(object[i].value_counts()) \n",
    "            print('\\n')"
   ]
  },
  {
   "cell_type": "markdown",
   "metadata": {},
   "source": [
    "***\n",
    "## Предварительный (очень краткий) анализ"
   ]
  },
  {
   "cell_type": "code",
   "execution_count": 2,
   "metadata": {},
   "outputs": [
    {
     "name": "stdout",
     "output_type": "stream",
     "text": [
      "(24712, 22) \n",
      "\n",
      "количество неполных записей\n",
      " _id               0\n",
      "age               0\n",
      "job               0\n",
      "marital           0\n",
      "education         0\n",
      "default           0\n",
      "housing           0\n",
      "loan              0\n",
      "contact           0\n",
      "month             0\n",
      "day_of_week       0\n",
      "duration          0\n",
      "campaign          0\n",
      "pdays             0\n",
      "previous          0\n",
      "poutcome          0\n",
      "emp.var.rate      0\n",
      "cons.price.idx    0\n",
      "cons.conf.idx     0\n",
      "euribor3m         0\n",
      "nr.employed       0\n",
      "target            0\n",
      "dtype: int64 \n",
      "\n",
      "<class 'pandas.core.frame.DataFrame'>\n",
      "RangeIndex: 24712 entries, 0 to 24711\n",
      "Data columns (total 22 columns):\n",
      "_id               24712 non-null object\n",
      "age               24712 non-null int64\n",
      "job               24712 non-null object\n",
      "marital           24712 non-null object\n",
      "education         24712 non-null object\n",
      "default           24712 non-null object\n",
      "housing           24712 non-null object\n",
      "loan              24712 non-null object\n",
      "contact           24712 non-null object\n",
      "month             24712 non-null object\n",
      "day_of_week       24712 non-null object\n",
      "duration          24712 non-null int64\n",
      "campaign          24712 non-null int64\n",
      "pdays             24712 non-null int64\n",
      "previous          24712 non-null int64\n",
      "poutcome          24712 non-null object\n",
      "emp.var.rate      24712 non-null float64\n",
      "cons.price.idx    24712 non-null float64\n",
      "cons.conf.idx     24712 non-null float64\n",
      "euribor3m         24712 non-null float64\n",
      "nr.employed       24712 non-null float64\n",
      "target            24712 non-null int64\n",
      "dtypes: float64(5), int64(6), object(11)\n",
      "memory usage: 4.1+ MB\n"
     ]
    }
   ],
   "source": [
    "# получим данные для обучения\n",
    "df_train = pd.read_csv('data/train.csv')\n",
    "print(df_train.shape,\"\\n\")\n",
    "print(\"количество неполных записей\\n\",df_train.isnull().sum(),\"\\n\")\n",
    "df_train.info()"
   ]
  },
  {
   "cell_type": "code",
   "execution_count": 3,
   "metadata": {},
   "outputs": [
    {
     "name": "stdout",
     "output_type": "stream",
     "text": [
      "\n",
      "=================\n",
      "column:  _id \n",
      "\n",
      "7ba4a33cf0b9aab6b0e925f63bf3cbb4    1\n",
      "89f03d64795772405e43e5970f799b8f    1\n",
      "e0f1b496dc5c65b2066e5828eeff3356    1\n",
      "52f86603fe79d6b04493d3259f348dc9    1\n",
      "3ec27034eb407f4e005c159122e327fa    1\n",
      "27e7ce0236f58a7ce2cf5e358d31d13e    1\n",
      "cd1eeca10a4474354aad83b39ec21de6    1\n",
      "544e20ed3915bce4fd3c0cad3ddacb30    1\n",
      "69781a9bda89a63b0b8ee4202c622eec    1\n",
      "0eb27663296fb0fc5e127c532f2e7024    1\n",
      "fc52337cce5b43b3868130e1857b0a44    1\n",
      "96836eeb2624c65e8b17d0cac724552b    1\n",
      "c2309c5a54cbf584537f690dc368704f    1\n",
      "6b3698008143c584cfa77ee615d0e26e    1\n",
      "0886d29a366e162f9999e89b5e3d60a4    1\n",
      "b79c8037cc5c763668e6ffd2039992d8    1\n",
      "220d9cc611f7275a8d1a96a7e93eb749    1\n",
      "3aaf978a197dc01a40714b0e30f819b9    1\n",
      "48b4b2c4770a0985d4a4d878dfa09138    1\n",
      "fef3dd38a269e1733bdb33929d4267fa    1\n",
      "ed41466e4b7751e5b1fbe8904075f6ea    1\n",
      "9de4553157cda70d2a1fa6644a614e9b    1\n",
      "69805e43878ac17e63662da2663df5ea    1\n",
      "c967daf6f23543aa832eb5a0354095cd    1\n",
      "25262cdbf63a5d3ce6a0b5183fdc1a97    1\n",
      "e2aa232794d64feb5851d2e48454c4c2    1\n",
      "470089245566ac8b70eb22c48e53d648    1\n",
      "b9ac3c8493366200ef0eb3bbc721a741    1\n",
      "7d46122fce929f005c2c2a928a4364ab    1\n",
      "b0f972e75a390a90bbddfdb524b3b70a    1\n",
      "                                   ..\n",
      "d9f1d310284528f5284e72f7b3b8c33c    1\n",
      "cff465dcb14aaa4d0df3fb4d2a42ddbf    1\n",
      "948db877678888356f1f34873c696fcc    1\n",
      "af7dd0d61e27d6b349c40d8d8aac01fa    1\n",
      "bed3963fc4b051a27a9e279c2b77c0dc    1\n",
      "2c3e2ea23b2efb0fb7c98820ad558e18    1\n",
      "0bf1d0a0be01e4461e7018a3110e23a8    1\n",
      "bbc66fa21c4c4c7ee1bf96939aca00b4    1\n",
      "9f85ecccd5bc3aae643e13e7c28772f3    1\n",
      "bac07e925602db1fe48a867c5f81deac    1\n",
      "4e39e1af58adfaf72594aad7ba2ea558    1\n",
      "111fb1d2e8ed19d6f210a38d2b277678    1\n",
      "d3d664c0b003d32fcfc4a29443412c24    1\n",
      "522854f8a18e9224467efa2adcd73b5f    1\n",
      "fc0bf501069e7d4c574979e3f7fd0ee2    1\n",
      "261a23c05e7f8021200ff7944304fc70    1\n",
      "c334a249b4c83aff87492204b693743c    1\n",
      "ce2b21321cc38e57f0c7ecf4a2182197    1\n",
      "96148b4f003e9e141f181f87c1741079    1\n",
      "ee046c598fd3610d0504ce2bd404387c    1\n",
      "9e18311e41658e91e415c02b3098b395    1\n",
      "f3489ea8b1a8b927944e9f250b8ad769    1\n",
      "b46382cbe3f41b87388ec1ec8c236b63    1\n",
      "673f7812dfe80aa14f5f951aef987a97    1\n",
      "eb77ca2a9c04c140ec1bfb506f5e5411    1\n",
      "eeb67d61b11e7c9ba948a34a9b8ce7d1    1\n",
      "c046aa6aee2b9d1fd7aee3fc43ef7b3a    1\n",
      "7e8e15e842600af4c77cb022802f7b3d    1\n",
      "3c23c9a6801b93a9cb9c0bbc1b0d593a    1\n",
      "fac6df9ad55d8bc7c4c0094c500d3a8c    1\n",
      "Name: _id, Length: 24712, dtype: int64\n",
      "\n",
      "\n",
      "\n",
      "=================\n",
      "column:  job \n",
      "\n",
      "admin.           6254\n",
      "blue-collar      5621\n",
      "technician       3987\n",
      "services         2391\n",
      "management       1758\n",
      "retired          1001\n",
      "entrepreneur      853\n",
      "self-employed     850\n",
      "housemaid         652\n",
      "unemployed        594\n",
      "student           554\n",
      "unknown           197\n",
      "Name: job, dtype: int64\n",
      "\n",
      "\n",
      "\n",
      "=================\n",
      "column:  marital \n",
      "\n",
      "married     14871\n",
      "single       7041\n",
      "divorced     2755\n",
      "unknown        45\n",
      "Name: marital, dtype: int64\n",
      "\n",
      "\n",
      "\n",
      "=================\n",
      "column:  education \n",
      "\n",
      "university.degree      7309\n",
      "high.school            5737\n",
      "basic.9y               3565\n",
      "professional.course    3112\n",
      "basic.4y               2523\n",
      "basic.6y               1399\n",
      "unknown                1060\n",
      "illiterate                7\n",
      "Name: education, dtype: int64\n",
      "\n",
      "\n",
      "\n",
      "=================\n",
      "column:  default \n",
      "\n",
      "no         19567\n",
      "unknown     5144\n",
      "yes            1\n",
      "Name: default, dtype: int64\n",
      "\n",
      "\n",
      "\n",
      "=================\n",
      "column:  housing \n",
      "\n",
      "yes        12934\n",
      "no         11156\n",
      "unknown      622\n",
      "Name: housing, dtype: int64\n",
      "\n",
      "\n",
      "\n",
      "=================\n",
      "column:  loan \n",
      "\n",
      "no         20334\n",
      "yes         3756\n",
      "unknown      622\n",
      "Name: loan, dtype: int64\n",
      "\n",
      "\n",
      "\n",
      "=================\n",
      "column:  contact \n",
      "\n",
      "cellular     15729\n",
      "telephone     8983\n",
      "Name: contact, dtype: int64\n",
      "\n",
      "\n",
      "\n",
      "=================\n",
      "column:  month \n",
      "\n",
      "may    8199\n",
      "jul    4364\n",
      "aug    3731\n",
      "jun    3191\n",
      "nov    2425\n",
      "apr    1568\n",
      "oct     442\n",
      "mar     346\n",
      "sep     337\n",
      "dec     109\n",
      "Name: month, dtype: int64\n",
      "\n",
      "\n",
      "\n",
      "=================\n",
      "column:  day_of_week \n",
      "\n",
      "thu    5144\n",
      "mon    5043\n",
      "wed    4939\n",
      "tue    4846\n",
      "fri    4740\n",
      "Name: day_of_week, dtype: int64\n",
      "\n",
      "\n",
      "\n",
      "=================\n",
      "column:  poutcome \n",
      "\n",
      "nonexistent    21346\n",
      "failure         2566\n",
      "success          800\n",
      "Name: poutcome, dtype: int64\n",
      "\n",
      "\n"
     ]
    }
   ],
   "source": [
    "parse(df_train)"
   ]
  },
  {
   "cell_type": "markdown",
   "metadata": {},
   "source": [
    "### предварительные выводы для \\_train\n",
    "1. пустышек нет   \n",
    "2. ряд колонок - объекты и требуют кодирования\n",
    "3. перекосов в данных нет, ибо все более-менее одинаково (отсутствуют в одной колонке величины типа 1'000'000 и 10..50)\n",
    "\n"
   ]
  },
  {
   "cell_type": "code",
   "execution_count": 4,
   "metadata": {},
   "outputs": [
    {
     "name": "stdout",
     "output_type": "stream",
     "text": [
      "(16476, 21) \n",
      "\n",
      "количество неполных записей\n",
      " _id               0\n",
      "age               0\n",
      "job               0\n",
      "marital           0\n",
      "education         0\n",
      "default           0\n",
      "housing           0\n",
      "loan              0\n",
      "contact           0\n",
      "month             0\n",
      "day_of_week       0\n",
      "duration          0\n",
      "campaign          0\n",
      "pdays             0\n",
      "previous          0\n",
      "poutcome          0\n",
      "emp.var.rate      0\n",
      "cons.price.idx    0\n",
      "cons.conf.idx     0\n",
      "euribor3m         0\n",
      "nr.employed       0\n",
      "dtype: int64 \n",
      "\n",
      "<class 'pandas.core.frame.DataFrame'>\n",
      "RangeIndex: 16476 entries, 0 to 16475\n",
      "Data columns (total 21 columns):\n",
      "_id               16476 non-null object\n",
      "age               16476 non-null int64\n",
      "job               16476 non-null object\n",
      "marital           16476 non-null object\n",
      "education         16476 non-null object\n",
      "default           16476 non-null object\n",
      "housing           16476 non-null object\n",
      "loan              16476 non-null object\n",
      "contact           16476 non-null object\n",
      "month             16476 non-null object\n",
      "day_of_week       16476 non-null object\n",
      "duration          16476 non-null int64\n",
      "campaign          16476 non-null int64\n",
      "pdays             16476 non-null int64\n",
      "previous          16476 non-null int64\n",
      "poutcome          16476 non-null object\n",
      "emp.var.rate      16476 non-null float64\n",
      "cons.price.idx    16476 non-null float64\n",
      "cons.conf.idx     16476 non-null float64\n",
      "euribor3m         16476 non-null float64\n",
      "nr.employed       16476 non-null float64\n",
      "dtypes: float64(5), int64(5), object(11)\n",
      "memory usage: 2.6+ MB\n"
     ]
    }
   ],
   "source": [
    "# получим данные для анализа\n",
    "df_test = pd.read_csv('data/test.csv')\n",
    "print(df_test.shape,\"\\n\")\n",
    "print(\"количество неполных записей\\n\",df_test.isnull().sum(),\"\\n\")\n",
    "df_test.info()"
   ]
  },
  {
   "cell_type": "code",
   "execution_count": 5,
   "metadata": {},
   "outputs": [
    {
     "name": "stdout",
     "output_type": "stream",
     "text": [
      "\n",
      "=================\n",
      "column:  _id \n",
      "\n",
      "f1560a62b369b7af2b9510979409439a    1\n",
      "ec4e9728a139bd39736f048c166d02bf    1\n",
      "28e08df3bcb73b246be2406d98716dbb    1\n",
      "c5f3a1c0579d3a432d432f320d462535    1\n",
      "3dbd2e7d84e8a5077e3bfa0e481d9f40    1\n",
      "7aee5ebcc777a65a62315be9da7545b5    1\n",
      "4b47e6aac332b1fd7dbe78e5b0235d1b    1\n",
      "bca8b14697299e9ff8307b22d3c3616f    1\n",
      "225d8c1f2e3fab021ece5bba952a7eff    1\n",
      "5ea95c6c032803716d61e9a9a458e3ec    1\n",
      "09bd5191335ad3d5bf5a3b5e1cf86537    1\n",
      "ac358350045d02e7a7f5f6403f37bacc    1\n",
      "4d3bb20b1339448429a764146b757d54    1\n",
      "9b675612d68b2773c3b9b6d2837916dd    1\n",
      "f6fdd2230b589ebfccea2743ba6e089a    1\n",
      "3ad2fd25c867bf0a743346acad927ac4    1\n",
      "7afe9a1316b7fa213dab440e1b8f439a    1\n",
      "7ede5aed9ee812231402bf4e7d3d5018    1\n",
      "f9348396019935023f932be0131fd474    1\n",
      "86ae25fd8fc8ff16262133e5e6b578bc    1\n",
      "6ef3fa1b368e745338e2da553b9393ce    1\n",
      "78cf3e5a6ec7c00853f465ba80515da4    1\n",
      "e273a0d9c3287d8768144d71a9e790bb    1\n",
      "0805fe85bace948a8ace571296c4e402    1\n",
      "fd04cdb8b4eb58100e88d6f9d4d8f327    1\n",
      "9498994000875ab9ff9f8bd5d33ce271    1\n",
      "5aa8ff085b017f45e433df458814fe33    1\n",
      "150ca12acc9acfae62d8061b4e8f57cb    1\n",
      "04c009a15b2d98822cca26601dd8b426    1\n",
      "38134957a551782bef144e7eefaf6101    1\n",
      "                                   ..\n",
      "97a3ec2ac071b3e57cf687f0adb0939b    1\n",
      "cdf4c9d3edbe58c9211342f81c95abe1    1\n",
      "f7fef9b068b8e7cd6cc6fc088d58392a    1\n",
      "6786724398241052f44a1fab7067f258    1\n",
      "7a8b431a532219484301e1c75429e7bb    1\n",
      "88059db11f235efc0418df7c8f885134    1\n",
      "1328d8d41c6dff2520d90d0dd41fdf7c    1\n",
      "d161d362af357fe1cd16a9835a7c5795    1\n",
      "e175223ab290fbc9c3c02db94caa23b7    1\n",
      "1afc56a0201b574a185c2b583f92d02b    1\n",
      "3b0cfd4acebcd2337d7eb33a9ea732f3    1\n",
      "8a47ab38a1313cd6920778f84cb9f33a    1\n",
      "167ee302495b08dae6ced3966fc67783    1\n",
      "4a21a4e56f5082cd2dbdd9b466205ead    1\n",
      "f3aaf60cbf4108766ee81acfee9988cf    1\n",
      "0f19a0691f20bd46cf0539e77b5d9910    1\n",
      "ad88eddcd376e4d79b4054173f2725ef    1\n",
      "2912a10ce91c4f56a818833c59c28971    1\n",
      "c219102dae97f6013f89951c3f8c3a09    1\n",
      "d9a2a9990a1eeff520762c6288ae4e04    1\n",
      "3ca0f849690d71c30cf1a65c6c45d8be    1\n",
      "5adb8d1fc73d3e989a959b30438d57ec    1\n",
      "ce5382136dedaae938722b83ec9a5987    1\n",
      "c84ea9c077d554f960ebd0100d44355a    1\n",
      "550aacceab85cd913e3b833435ebe516    1\n",
      "276f9d360257c8a1f0cd76f32da47bff    1\n",
      "a92efc371901383bf4e474ec3aaca25e    1\n",
      "212410430aa1e2c6be13d50f0e2e7711    1\n",
      "e81bee6ba954606afa2043cbe05c6efe    1\n",
      "f465c33520c5cf18eca9408e0f49ac6e    1\n",
      "Name: _id, Length: 16476, dtype: int64\n",
      "\n",
      "\n",
      "\n",
      "=================\n",
      "column:  job \n",
      "\n",
      "admin.           4168\n",
      "blue-collar      3633\n",
      "technician       2756\n",
      "services         1578\n",
      "management       1166\n",
      "retired           719\n",
      "entrepreneur      603\n",
      "self-employed     571\n",
      "unemployed        420\n",
      "housemaid         408\n",
      "student           321\n",
      "unknown           133\n",
      "Name: job, dtype: int64\n",
      "\n",
      "\n",
      "\n",
      "=================\n",
      "column:  marital \n",
      "\n",
      "married     10057\n",
      "single       4527\n",
      "divorced     1857\n",
      "unknown        35\n",
      "Name: marital, dtype: int64\n",
      "\n",
      "\n",
      "\n",
      "=================\n",
      "column:  education \n",
      "\n",
      "university.degree      4859\n",
      "high.school            3778\n",
      "basic.9y               2480\n",
      "professional.course    2131\n",
      "basic.4y               1653\n",
      "basic.6y                893\n",
      "unknown                 671\n",
      "illiterate               11\n",
      "Name: education, dtype: int64\n",
      "\n",
      "\n",
      "\n",
      "=================\n",
      "column:  default \n",
      "\n",
      "no         13021\n",
      "unknown     3453\n",
      "yes            2\n",
      "Name: default, dtype: int64\n",
      "\n",
      "\n",
      "\n",
      "=================\n",
      "column:  housing \n",
      "\n",
      "yes        8642\n",
      "no         7466\n",
      "unknown     368\n",
      "Name: housing, dtype: int64\n",
      "\n",
      "\n",
      "\n",
      "=================\n",
      "column:  loan \n",
      "\n",
      "no         13616\n",
      "yes         2492\n",
      "unknown      368\n",
      "Name: loan, dtype: int64\n",
      "\n",
      "\n",
      "\n",
      "=================\n",
      "column:  contact \n",
      "\n",
      "cellular     10415\n",
      "telephone     6061\n",
      "Name: contact, dtype: int64\n",
      "\n",
      "\n",
      "\n",
      "=================\n",
      "column:  month \n",
      "\n",
      "may    5570\n",
      "jul    2810\n",
      "aug    2447\n",
      "jun    2127\n",
      "nov    1676\n",
      "apr    1064\n",
      "oct     276\n",
      "sep     233\n",
      "mar     200\n",
      "dec      73\n",
      "Name: month, dtype: int64\n",
      "\n",
      "\n",
      "\n",
      "=================\n",
      "column:  day_of_week \n",
      "\n",
      "thu    3479\n",
      "mon    3471\n",
      "tue    3244\n",
      "wed    3195\n",
      "fri    3087\n",
      "Name: day_of_week, dtype: int64\n",
      "\n",
      "\n",
      "\n",
      "=================\n",
      "column:  poutcome \n",
      "\n",
      "nonexistent    14217\n",
      "failure         1686\n",
      "success          573\n",
      "Name: poutcome, dtype: int64\n",
      "\n",
      "\n"
     ]
    }
   ],
   "source": [
    "parse(df_test)"
   ]
  },
  {
   "cell_type": "markdown",
   "metadata": {},
   "source": [
    "### предварительные выводы для \\_test\n",
    "1. пустышек нет   \n",
    "2. ряд колонок - объекты и требуют кодирования\n",
    "3. перекосов в данных нет, ибо все более-менее одинаково (отсутствуют в одной колонке величины типа 1'000'000 и 10..50)\n",
    "\n"
   ]
  },
  {
   "cell_type": "markdown",
   "metadata": {},
   "source": [
    "### окончательные выводы по данным\n",
    "1. пустышек нет, заполнять искусственно нет необходимости\n",
    "2. колонки с типом данных \"object\" должны быть подвергнуты one-hot-encoding\n",
    "3. настораживает поле дефолта по кредиту [default] - полагаю есть смысл его удалить?\n",
    "4. в силу того, что я не знаю, как работает эта doom machine (я не настолько зверюга, чтобы с наскока понять эту математику), считаю использование scaler необходимым (хотя я и не видел перекосов в данных)\n"
   ]
  },
  {
   "cell_type": "markdown",
   "metadata": {},
   "source": [
    "***\n",
    "## Подготовка обучающих данных"
   ]
  },
  {
   "cell_type": "code",
   "execution_count": 6,
   "metadata": {},
   "outputs": [],
   "source": [
    "def preproc_data(df_input):\n",
    "    df_output = df_input.copy()\n",
    "    df_output = df_output.drop(['default'], axis=1)\n",
    "    #Кодируем категориальные признаки\n",
    "    df_output = pd.get_dummies(df_output, columns=['job', 'marital', 'education', 'housing', 'loan', 'contact', 'month', 'day_of_week', 'poutcome'])\n",
    "    return df_output"
   ]
  },
  {
   "cell_type": "code",
   "execution_count": 7,
   "metadata": {},
   "outputs": [],
   "source": [
    "# обработаем _train \n",
    "df_train_preproc = df_train.pipe(preproc_data)\n",
    "\n",
    "# получим вектор y и матрицу признаков Х (попутно удалив колонку _id, ибо она ну совсем не нужна нам) \n",
    "y = df_train_preproc['target']\n",
    "X = df_train_preproc.drop(['_id', 'target'], axis=1)\n",
    "\n",
    "X_train, X_test, y_train, y_test = train_test_split(X, y, test_size=0.3, random_state=123)"
   ]
  },
  {
   "cell_type": "code",
   "execution_count": 8,
   "metadata": {},
   "outputs": [
    {
     "data": {
      "text/plain": [
       "(7414, 60)"
      ]
     },
     "execution_count": 8,
     "metadata": {},
     "output_type": "execute_result"
    }
   ],
   "source": [
    "X_test.shape"
   ]
  },
  {
   "cell_type": "code",
   "execution_count": 9,
   "metadata": {},
   "outputs": [
    {
     "data": {
      "text/plain": [
       "(7414,)"
      ]
     },
     "execution_count": 9,
     "metadata": {},
     "output_type": "execute_result"
    }
   ],
   "source": [
    "y_test.shape"
   ]
  },
  {
   "cell_type": "code",
   "execution_count": 10,
   "metadata": {},
   "outputs": [
    {
     "data": {
      "text/plain": [
       "(17298, 60)"
      ]
     },
     "execution_count": 10,
     "metadata": {},
     "output_type": "execute_result"
    }
   ],
   "source": [
    "X_train.shape"
   ]
  },
  {
   "cell_type": "code",
   "execution_count": 11,
   "metadata": {},
   "outputs": [
    {
     "data": {
      "text/plain": [
       "(17298,)"
      ]
     },
     "execution_count": 11,
     "metadata": {},
     "output_type": "execute_result"
    }
   ],
   "source": [
    "y_train.shape"
   ]
  },
  {
   "cell_type": "markdown",
   "metadata": {},
   "source": [
    "***\n",
    "\n",
    "# Три метода анализа\n",
    "\n",
    "## Метод KNeighborsClassifier"
   ]
  },
  {
   "cell_type": "code",
   "execution_count": 12,
   "metadata": {},
   "outputs": [],
   "source": [
    "model_KNN = Pipeline([ ('scaler', StandardScaler()), ('knn', KNeighborsClassifier(n_neighbors=3)) ])\n",
    "\n",
    "model_KNN.fit(X_train, y_train)\n",
    "\n",
    "predict_KNN = model_KNN.predict(X_test)\n",
    "predict_proba_KNN = model_KNN.predict_proba(X_test)"
   ]
  },
  {
   "cell_type": "markdown",
   "metadata": {},
   "source": [
    "## Метод DecisionTreeClassifier (один гиперпараметр)"
   ]
  },
  {
   "cell_type": "code",
   "execution_count": 13,
   "metadata": {},
   "outputs": [
    {
     "data": {
      "image/png": "[encoded data removed]",
      "text/plain": [
       "<Figure size 1080x720 with 1 Axes>"
      ]
     },
     "metadata": {
      "needs_background": "light"
     },
     "output_type": "display_data"
    }
   ],
   "source": [
    "model_DTC = DecisionTreeClassifier(random_state=123)\n",
    "model_DTC.fit(X_train, y_train)\n",
    "\n",
    "# кросс-валидируем, 5 частей\n",
    "cv = StratifiedKFold(n_splits=5, shuffle=True, random_state=132)\n",
    "\n",
    "# validation_curve(estimator, X, y, param_name, param_range, groups=None, cv=None, scoring=None, n_jobs=1, pre_dispatch='all', verbose=0)\n",
    "train_scores, valid_scores = validation_curve(model_DTC, X, y, 'max_depth', range(1, 10), cv=cv, scoring='roc_auc')\n",
    "\n",
    "train_score_mean = train_scores.mean(axis=1)\n",
    "train_score_std = train_scores.std(axis=1)\n",
    "\n",
    "valid_scores_mean = valid_scores.mean(axis=1)\n",
    "valid_scores_std = valid_scores.std(axis=1)\n",
    "\n",
    "plt.figure(figsize=(15, 10))\n",
    "\n",
    "plt.fill_between(range(1,10), train_score_mean-train_score_std, train_score_mean+train_score_std, color='b',\n",
    "                 interpolate=True, alpha=0.5,)\n",
    "plt.fill_between(range(1,10), valid_scores_mean-valid_scores_std, valid_scores_mean+valid_scores_std, color='r', \n",
    "                 interpolate=True, alpha=0.5)\n",
    "\n",
    "plt.plot(range(1,10), train_score_mean, c='b', lw=2)\n",
    "plt.plot(range(1,10), valid_scores_mean, c='r', lw=2)\n",
    "\n",
    "plt.xlabel('max depth')\n",
    "plt.ylabel('ROC AUC')\n",
    "plt.legend(['train','test'],loc='best')\n",
    "\n",
    "plt.show()"
   ]
  },
  {
   "cell_type": "code",
   "execution_count": 14,
   "metadata": {},
   "outputs": [],
   "source": [
    "# в нашем случае используем глубину перебора, равную 5 (или все же 6?)\n",
    "max_depth = 5\n",
    "model_DTC = DecisionTreeClassifier(criterion='entropy', max_depth=max_depth, random_state=123)\n",
    "model_DTC.fit(X_train, y_train)\n",
    "\n",
    "predict_DTC = model_DTC.predict(X_test)\n",
    "predict_proba_DTC = model_DTC.predict_proba(X_test)"
   ]
  },
  {
   "cell_type": "markdown",
   "metadata": {},
   "source": [
    "## Метод DecisionTreeClassifier v/ Random (перебор гиперпараметров)"
   ]
  },
  {
   "cell_type": "code",
   "execution_count": 15,
   "metadata": {},
   "outputs": [
    {
     "data": {
      "text/plain": [
       "RandomizedSearchCV(cv=StratifiedKFold(n_splits=5, random_state=123, shuffle=True),\n",
       "          error_score='raise',\n",
       "          estimator=DecisionTreeClassifier(class_weight=None, criterion='gini', max_depth=None,\n",
       "            max_features=None, max_leaf_nodes=None,\n",
       "            min_impurity_decrease=0.0, min_impurity_split=None,\n",
       "            min_samples_leaf=1, min_samples_split=2,\n",
       "            min_weight_fraction_leaf=0.0, presort=False, random_state=123,\n",
       "            splitter='best'),\n",
       "          fit_params=None, iid=True, n_iter=200, n_jobs=-1,\n",
       "          param_distributions={'criterion': ['gini', 'entropy'], 'max_depth': <scipy.stats._distn_infrastructure.rv_frozen object at 0x1a1f546048>, 'min_samples_leaf': <scipy.stats._distn_infrastructure.rv_frozen object at 0x1a1f6096a0>, 'class_weight': [None, 'balanced']},\n",
       "          pre_dispatch='2*n_jobs', random_state=123, refit=True,\n",
       "          return_train_score='warn', scoring='roc_auc', verbose=0)"
      ]
     },
     "execution_count": 15,
     "metadata": {},
     "output_type": "execute_result"
    }
   ],
   "source": [
    "param_grid = {\n",
    "    'criterion': ['gini','entropy'],\n",
    "    'max_depth': randint(2, 8),\n",
    "    'min_samples_leaf': randint(5, 10),\n",
    "    'class_weight': [None, 'balanced']}\n",
    "\n",
    "cv = StratifiedKFold(n_splits=5, random_state=123, shuffle=True)\n",
    "\n",
    "model = DecisionTreeClassifier(random_state=123)\n",
    "random_search = RandomizedSearchCV(model, param_distributions=param_grid, n_iter=200, n_jobs=-1,\n",
    "                                   cv=cv, scoring='roc_auc', random_state=123)\n",
    "random_search.fit(X, y)"
   ]
  },
  {
   "cell_type": "code",
   "execution_count": 16,
   "metadata": {},
   "outputs": [
    {
     "data": {
      "text/plain": [
       "{'class_weight': 'balanced',\n",
       " 'criterion': 'entropy',\n",
       " 'max_depth': 6,\n",
       " 'min_samples_leaf': 8}"
      ]
     },
     "execution_count": 16,
     "metadata": {},
     "output_type": "execute_result"
    }
   ],
   "source": [
    "random_search.best_params_"
   ]
  },
  {
   "cell_type": "code",
   "execution_count": 17,
   "metadata": {},
   "outputs": [
    {
     "data": {
      "text/plain": [
       "0.9371319975317042"
      ]
     },
     "execution_count": 17,
     "metadata": {},
     "output_type": "execute_result"
    }
   ],
   "source": [
    "random_search.best_score_"
   ]
  },
  {
   "cell_type": "code",
   "execution_count": 18,
   "metadata": {},
   "outputs": [
    {
     "data": {
      "text/plain": [
       "DecisionTreeClassifier(class_weight='balanced', criterion='entropy',\n",
       "            max_depth=6, max_features=None, max_leaf_nodes=None,\n",
       "            min_impurity_decrease=0.0, min_impurity_split=None,\n",
       "            min_samples_leaf=8, min_samples_split=2,\n",
       "            min_weight_fraction_leaf=0.0, presort=False, random_state=123,\n",
       "            splitter='best')"
      ]
     },
     "execution_count": 18,
     "metadata": {},
     "output_type": "execute_result"
    }
   ],
   "source": [
    "random_search.best_estimator_"
   ]
  },
  {
   "cell_type": "code",
   "execution_count": 19,
   "metadata": {},
   "outputs": [],
   "source": [
    "model_DTC_Random = random_search.best_estimator_\n",
    "predict_DTC_Random = model_DTC_Random.predict(X_test)\n",
    "predict_proba_DTC_Random = model_DTC_Random.predict_proba(X_test)"
   ]
  },
  {
   "cell_type": "markdown",
   "metadata": {},
   "source": [
    "## Метод LogisticRegression"
   ]
  },
  {
   "cell_type": "code",
   "execution_count": 20,
   "metadata": {},
   "outputs": [],
   "source": [
    "model_LR = LogisticRegression()\n",
    "model_LR.fit(X_train, y_train)\n",
    "predict_LR = model_LR.predict(X_test)\n",
    "predict_proba_LR = model_LR.predict_proba(X_test)"
   ]
  },
  {
   "cell_type": "markdown",
   "metadata": {},
   "source": [
    "***\n",
    "# Сравнение результатов работы"
   ]
  },
  {
   "cell_type": "code",
   "execution_count": 21,
   "metadata": {},
   "outputs": [
    {
     "name": "stdout",
     "output_type": "stream",
     "text": [
      "KNeighborsClassifier\n",
      "--------------\n",
      "              precision    recall  f1-score   support\n",
      "\n",
      "          0       0.91      0.97      0.94      6574\n",
      "          1       0.54      0.29      0.38       840\n",
      "\n",
      "avg / total       0.87      0.89      0.88      7414\n",
      "\n",
      "\n",
      "DecisionTreeClassifier\n",
      "--------------\n",
      "              precision    recall  f1-score   support\n",
      "\n",
      "          0       0.93      0.97      0.95      6574\n",
      "          1       0.69      0.45      0.54       840\n",
      "\n",
      "avg / total       0.90      0.91      0.91      7414\n",
      "\n",
      "\n",
      "DecisionTreeClassifier (Random)\n",
      "--------------\n",
      "              precision    recall  f1-score   support\n",
      "\n",
      "          0       0.99      0.83      0.90      6574\n",
      "          1       0.42      0.93      0.58       840\n",
      "\n",
      "avg / total       0.92      0.84      0.87      7414\n",
      "\n",
      "\n",
      "LogisticRegression\n",
      "--------------\n",
      "              precision    recall  f1-score   support\n",
      "\n",
      "          0       0.93      0.98      0.95      6574\n",
      "          1       0.70      0.38      0.49       840\n",
      "\n",
      "avg / total       0.90      0.91      0.90      7414\n",
      "\n"
     ]
    }
   ],
   "source": [
    "print('KNeighborsClassifier\\n--------------\\n', classification_report(y_test, predict_KNN))\n",
    "print('\\nDecisionTreeClassifier\\n--------------\\n', classification_report(y_test, predict_DTC))\n",
    "print('\\nDecisionTreeClassifier (Random)\\n--------------\\n', classification_report(y_test, predict_DTC_Random))\n",
    "print('\\nLogisticRegression\\n--------------\\n',classification_report(y_test, predict_LR))"
   ]
  },
  {
   "cell_type": "code",
   "execution_count": 22,
   "metadata": {},
   "outputs": [
    {
     "data": {
      "image/png": "[encoded data removed]",
      "text/plain": [
       "<Figure size 1080x1080 with 1 Axes>"
      ]
     },
     "metadata": {
      "needs_background": "light"
     },
     "output_type": "display_data"
    }
   ],
   "source": [
    "#Отобразим ROC_AUC\n",
    "plt.figure(figsize=(15, 15))\n",
    "plt.xlim((-0.01, 1.01))\n",
    "plt.ylim((-0.01, 1.01))\n",
    "\n",
    "plt.ylabel('Tpr')\n",
    "plt.xlabel('Fpr')\n",
    "plt.title('ROC curves')\n",
    "\n",
    "Fpr_KNN, Tpr_KNN, thresholds = roc_curve(y_test, predict_proba_KNN[:,1])\n",
    "plt.plot(Fpr_KNN, Tpr_KNN, 'y-' ,label='KNeighborsClassifier')\n",
    "\n",
    "Fpr_DTC, Tpr_DTC, thresholds = roc_curve(y_test, predict_proba_DTC[:,1])\n",
    "plt.plot(Fpr_DTC, Tpr_DTC, 'g-' ,label='DecisionTreeClassifier')\n",
    "\n",
    "Fpr_DTC_Random, Tpr_DTC_Random, thresholds = roc_curve(y_test, predict_proba_DTC_Random[:,1])\n",
    "plt.plot(Fpr_DTC_Random, Tpr_DTC_Random, 'b-' ,label='DecisionTreeClassifier (Random)')\n",
    "\n",
    "Fpr_LR, Tpr_LR, thresholds = roc_curve(y_test, predict_proba_LR[:,1])\n",
    "plt.plot(Fpr_LR, Tpr_LR, 'r-', label='LogisticRegression')\n",
    "\n",
    "plt.plot([0, 1], [0, 1], 'lightgray')\n",
    "plt.grid(True)\n",
    "plt.legend()\n",
    "plt.show()"
   ]
  },
  {
   "cell_type": "code",
   "execution_count": 23,
   "metadata": {},
   "outputs": [
    {
     "name": "stdout",
     "output_type": "stream",
     "text": [
      "ROC_AUC\n",
      "--------------\n",
      "KNeighborsClassifier:\t\t\t 0.7537220942529735\n",
      "DecisionTreeClassifier:\t\t\t 0.9194480058527822\n",
      "DecisionTreeClassifier (Random):\t 0.9478215951729034\n",
      "LogisticRegression:\t\t\t 0.9296849421240964\n"
     ]
    }
   ],
   "source": [
    "roc_auc_KNN = roc_auc_score(y_test, predict_proba_KNN[:,1])\n",
    "roc_auc_DTC= roc_auc_score(y_test, predict_proba_DTC[:,1])\n",
    "roc_auc_DTC_Random = roc_auc_score(y_test, predict_proba_DTC_Random[:,1])\n",
    "roc_auc_LR = roc_auc_score(y_test, predict_proba_LR[:,1])\n",
    "\n",
    "print('ROC_AUC\\n--------------')\n",
    "print('KNeighborsClassifier:\\t\\t\\t', roc_auc_KNN)\n",
    "print('DecisionTreeClassifier:\\t\\t\\t', roc_auc_DTC)\n",
    "print('DecisionTreeClassifier (Random):\\t', roc_auc_DTC_Random)\n",
    "print('LogisticRegression:\\t\\t\\t', roc_auc_LR)"
   ]
  },
  {
   "cell_type": "code",
   "execution_count": 24,
   "metadata": {},
   "outputs": [
    {
     "name": "stdout",
     "output_type": "stream",
     "text": [
      "AVG_ROC_AUC\n",
      "------------\n",
      "KNeighborsClassifier\t\t\t 0.7553029490771225\n",
      "DecisionTreeClassifier\t\t\t 0.930427484091563\n",
      "DecisionTreeClassifier (Random)\t\t 0.937605639313505\n",
      "Logistic Regression\t\t\t 0.9300912295141901\n"
     ]
    }
   ],
   "source": [
    "cvs_KNN = cross_val_score(model_KNN, X, y, scoring='roc_auc', cv=10).mean()\n",
    "cvs_DTC = cross_val_score(model_DTC, X, y, scoring='roc_auc', cv=10).mean()\n",
    "cvs_DTC_Random = cross_val_score(model_DTC_Random, X, y, scoring='roc_auc', cv=10).mean()\n",
    "cvs_LR = cross_val_score(model_LR, X, y, scoring='roc_auc', cv=10).mean()\n",
    "\n",
    "print('AVG_ROC_AUC\\n------------')\n",
    "print('KNeighborsClassifier\\t\\t\\t', cvs_KNN)\n",
    "print('DecisionTreeClassifier\\t\\t\\t', cvs_DTC)\n",
    "print('DecisionTreeClassifier (Random)\\t\\t', cvs_DTC_Random)\n",
    "print('Logistic Regression\\t\\t\\t', cvs_LR)\n"
   ]
  },
  {
   "cell_type": "markdown",
   "metadata": {},
   "source": [
    "***\n",
    "# Используем лучший алгоритм\n",
    "\n",
    "## Подготовка тестовых данных"
   ]
  },
  {
   "cell_type": "code",
   "execution_count": 25,
   "metadata": {},
   "outputs": [],
   "source": [
    "# переполучим данные заново, чистоты для \n",
    "df_test = pd.read_csv('data/test.csv')\n",
    "\n",
    "# почистим и преобразуем\n",
    "df_test_preproc = df_test.pipe(preproc_data)\n",
    "X_test = df_test_preproc.drop(['_id'], axis=1)\n",
    "\n",
    "# и наконец сделаем предсказание\n",
    "result_predict = model_DTC_Random.predict(X_test)"
   ]
  },
  {
   "cell_type": "code",
   "execution_count": 26,
   "metadata": {},
   "outputs": [
    {
     "data": {
      "text/plain": [
       "((16476, 60), (16476,), array([0, 0, 0, ..., 0, 0, 0]))"
      ]
     },
     "execution_count": 26,
     "metadata": {},
     "output_type": "execute_result"
    }
   ],
   "source": [
    "X_test.shape,result_predict.shape,result_predict"
   ]
  },
  {
   "cell_type": "code",
   "execution_count": 27,
   "metadata": {},
   "outputs": [],
   "source": [
    "df_test['target'] = result_predict\n",
    "#df_test.head().T\n",
    "#df_test.info()\n",
    "df_test.to_csv('data/team5full_df.csv', sep=',', encoding='utf-8', index=False)"
   ]
  },
  {
   "cell_type": "code",
   "execution_count": 28,
   "metadata": {},
   "outputs": [],
   "source": [
    "submit2kaggle = pd.DataFrame({'_id':df_test['_id'],'target':result_predict})\n",
    "#submit2kaggle.head(20)\n",
    "#submit2kaggle.info()\n",
    "submit2kaggle.to_csv('data/team5result.csv', sep=',', encoding='utf-8', index=False)"
   ]
  }
 ],
 "metadata": {
  "kernelspec": {
   "display_name": "Python 3",
   "language": "python",
   "name": "python3"
  },
  "language_info": {
   "codemirror_mode": {
    "name": "ipython",
    "version": 3
   },
   "file_extension": ".py",
   "mimetype": "text/x-python",
   "name": "python",
   "nbconvert_exporter": "python",
   "pygments_lexer": "ipython3",
   "version": "3.7.0"
  }
 },
 "nbformat": 4,
 "nbformat_minor": 2
}
