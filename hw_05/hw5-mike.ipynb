{
 "cells": [
  {
   "cell_type": "code",
   "execution_count": 1,
   "metadata": {},
   "outputs": [],
   "source": [
    "import pandas as pd"
   ]
  },
  {
   "cell_type": "code",
   "execution_count": 2,
   "metadata": {},
   "outputs": [],
   "source": [
    "df_train = pd.read_csv('train.csv', sep='\\t')\n",
    "df_test = pd.read_csv('test.csv', sep='\\t')"
   ]
  },
  {
   "cell_type": "code",
   "execution_count": 3,
   "metadata": {},
   "outputs": [],
   "source": [
    "from bs4 import BeautifulSoup \n",
    "from datetime import datetime\n",
    "import re, time\n",
    "import pymorphy2\n",
    "\n",
    "cachedDict = dict()\n",
    "morph = pymorphy2.MorphAnalyzer()\n",
    "\n",
    "def cleanText(text):\n",
    "    res = BeautifulSoup(text, \"html5lib\").get_text()\n",
    "    res = re.sub('[^а-яёА-ЯЁa-zA-Z ]', ' ', res)\n",
    "    return res.lower()\n",
    "\n",
    "def parseMorph(text, cached=True):\n",
    "    resultList = []\n",
    "    wordList = re.findall('[А-Яа-яЁё]+\\-[А-Яа-яЁё]+|[А-Яа-яЁё]+', text)\n",
    "    for word in wordList:\n",
    "\n",
    "        if cached & (word in cachedDict):\n",
    "            resultList.append(cachedDict[word])\n",
    "        else:\n",
    "            pv = morph.parse(word)\n",
    "            for p in pv:\n",
    "                if p.tag.POS in ['ADJF', 'NOUN', 'VERB']:\n",
    "                    resultList.append(p.normal_form)\n",
    "                    if cached:\n",
    "                        cachedDict[word] = p.normal_form\n",
    "                    break\n",
    "    return resultList\n",
    "\n",
    "def preproc_data(df_input):\n",
    "    df_output = df_input.copy()\n",
    "    \n",
    "    print('\\nJoin titles and advert texts')\n",
    "    df_output['text'] = df_output['name'] + ' ' + df_output['description']\n",
    "\n",
    "    print('\\nClean the text')\n",
    "    df_output['text'] = df_output['text'].map(cleanText)\n",
    "\n",
    "    print('\\nUse Pymorphy2')\n",
    "    df_output['text_morph'] = df_output['text'].map(parseMorph)\n",
    "    df_output['text_morph_str'] = df_output['text_morph'].map(lambda x: ' '.join(x))\n",
    "        \n",
    "    return df_output"
   ]
  },
  {
   "cell_type": "code",
   "execution_count": 4,
   "metadata": {},
   "outputs": [
    {
     "name": "stdout",
     "output_type": "stream",
     "text": [
      "\n",
      "Join titles and advert texts\n",
      "\n",
      "Clean the text\n",
      "\n",
      "Use Pymorphy2\n",
      "\n",
      "Join titles and advert texts\n",
      "\n",
      "Clean the text\n",
      "\n",
      "Use Pymorphy2\n",
      "CPU times: user 42min 9s, sys: 10.6 s, total: 42min 19s\n",
      "Wall time: 42min 24s\n"
     ]
    }
   ],
   "source": [
    "%%time\n",
    "# распарсим данные\n",
    "df_train_preproc= preproc_data(df_train)\n",
    "df_test_preproc= preproc_data(df_test)"
   ]
  },
  {
   "cell_type": "code",
   "execution_count": 6,
   "metadata": {},
   "outputs": [],
   "source": [
    "from sklearn.pipeline import Pipeline\n",
    "from sklearn.model_selection import train_test_split\n",
    "from sklearn.metrics import precision_score, recall_score, accuracy_score, classification_report\n",
    "from sklearn.model_selection import cross_val_score\n",
    "\n",
    "from sklearn.metrics import roc_auc_score, roc_curve\n",
    "from sklearn.feature_extraction.text import CountVectorizer\n",
    "from sklearn.linear_model import LogisticRegression\n",
    "\n",
    "from matplotlib import pyplot as plt\n",
    "%matplotlib inline"
   ]
  },
  {
   "cell_type": "code",
   "execution_count": 14,
   "metadata": {},
   "outputs": [],
   "source": [
    "#Просто текст невекторизованный\n",
    "X = df_train_preproc['text']\n",
    "y = df_train_preproc['target']\n",
    "X_train, X_test, y_train, y_test = train_test_split(X, y, test_size=0.3, random_state=123)"
   ]
  },
  {
   "cell_type": "code",
   "execution_count": 15,
   "metadata": {},
   "outputs": [
    {
     "name": "stdout",
     "output_type": "stream",
     "text": [
      "             precision    recall  f1-score   support\n",
      "\n",
      "          0       0.97      0.97      0.97     32011\n",
      "          1       0.96      0.97      0.97     27989\n",
      "\n",
      "avg / total       0.97      0.97      0.97     60000\n",
      "\n",
      "CPU times: user 16min 31s, sys: 44 s, total: 17min 15s\n",
      "Wall time: 9min 28s\n"
     ]
    }
   ],
   "source": [
    "%%time\n",
    "cv = CountVectorizer(ngram_range = (1,2))\n",
    "\n",
    "model_LR_CV = Pipeline([ ('cv', cv), ('lr', LogisticRegression()) ])\n",
    "model_LR_CV.fit(X_train, y_train)\n",
    "\n",
    "predict_LR_CV = model_LR_CV.predict(X_test)\n",
    "predict_proba_LR_CV = model_LR_CV.predict_proba(X_test)\n",
    "\n",
    "print(classification_report(y_test, predict_LR_CV))"
   ]
  },
  {
   "cell_type": "code",
   "execution_count": 19,
   "metadata": {},
   "outputs": [],
   "source": [
    "#Используем подготовленный pymorphy2 текст\n",
    "X = df_train_preproc['text_morph_str']\n",
    "y = df_train_preproc['target']\n",
    "X_train, X_test, y_train, y_test = train_test_split(X, y, test_size=0.3, random_state=123)"
   ]
  },
  {
   "cell_type": "code",
   "execution_count": 20,
   "metadata": {},
   "outputs": [
    {
     "name": "stdout",
     "output_type": "stream",
     "text": [
      "             precision    recall  f1-score   support\n",
      "\n",
      "          0       0.97      0.96      0.97     32011\n",
      "          1       0.96      0.96      0.96     27989\n",
      "\n",
      "avg / total       0.96      0.96      0.96     60000\n",
      "\n",
      "CPU times: user 10min 25s, sys: 22.5 s, total: 10min 48s\n",
      "Wall time: 4min 59s\n"
     ]
    }
   ],
   "source": [
    "%%time\n",
    "cv = CountVectorizer(ngram_range = (1,2))\n",
    "\n",
    "model_LR_CV_M = Pipeline([ ('cv', cv), ('lr', LogisticRegression()) ])\n",
    "model_LR_CV_M.fit(X_train, y_train)\n",
    "\n",
    "predict_LR_CV_M = model_LR_CV_M.predict(X_test)\n",
    "predict_proba_LR_CV_M = model_LR_CV_M.predict_proba(X_test)\n",
    "\n",
    "print(classification_report(y_test, predict_LR_CV_M))"
   ]
  },
  {
   "cell_type": "code",
   "execution_count": 22,
   "metadata": {},
   "outputs": [
    {
     "data": {
      "image/png": "[encoded data removed]",
      "text/plain": [
       "<Figure size 1080x720 with 1 Axes>"
      ]
     },
     "metadata": {
      "needs_background": "light"
     },
     "output_type": "display_data"
    },
    {
     "name": "stdout",
     "output_type": "stream",
     "text": [
      "ROC_AUC\n",
      "LogisticRegression w/ clearText\t\t 0.9917977981145654\n",
      "LogisticRegression w/ Pymorphy2\t\t 0.9906379072936471\n"
     ]
    }
   ],
   "source": [
    "# визуально посмотрим на точность классификатора\n",
    "Fpr_LR_CV, Tpr_LR_CV, thresholds = roc_curve(y_test, predict_proba_LR_CV[:,1])\n",
    "Fpr_LR_CV_M, Tpr_LR_CV_M, thresholds = roc_curve(y_test, predict_proba_LR_CV_M[:,1])\n",
    "\n",
    "plt.figure(figsize=(15, 10))\n",
    "plt.plot([0, 1], [0, 1], 'grey')\n",
    "\n",
    "plt.ylabel('Tpr')\n",
    "plt.xlabel('Fpr')\n",
    "\n",
    "plt.title('ROC curve')\n",
    "plt.grid(True)\n",
    "\n",
    "plt.xlim((-0.01, 1.01))\n",
    "plt.ylim((-0.01, 1.01))\n",
    "\n",
    "\n",
    "plt.plot(Fpr_LR_CV, Tpr_LR_CV, label='CountVectorizer + clearText')\n",
    "plt.plot(Fpr_LR_CV_M, Tpr_LR_CV_M, label='CountVectorizer + Pymorphy2')\n",
    "\n",
    "plt.legend()\n",
    "plt.show()\n",
    "\n",
    "print('ROC_AUC')\n",
    "print('LogisticRegression w/ clearText\\t\\t', roc_auc_score(y_test, predict_proba_LR_CV[:,1]))\n",
    "print('LogisticRegression w/ Pymorphy2\\t\\t', roc_auc_score(y_test, predict_proba_LR_CV_M[:,1]))"
   ]
  },
  {
   "cell_type": "code",
   "execution_count": 23,
   "metadata": {},
   "outputs": [
    {
     "data": {
      "text/html": [
       "<div>\n",
       "<style scoped>\n",
       "    .dataframe tbody tr th:only-of-type {\n",
       "        vertical-align: middle;\n",
       "    }\n",
       "\n",
       "    .dataframe tbody tr th {\n",
       "        vertical-align: top;\n",
       "    }\n",
       "\n",
       "    .dataframe thead th {\n",
       "        text-align: right;\n",
       "    }\n",
       "</style>\n",
       "<table border=\"1\" class=\"dataframe\">\n",
       "  <thead>\n",
       "    <tr style=\"text-align: right;\">\n",
       "      <th></th>\n",
       "      <th>id</th>\n",
       "      <th>target</th>\n",
       "    </tr>\n",
       "  </thead>\n",
       "  <tbody>\n",
       "    <tr>\n",
       "      <th>0</th>\n",
       "      <td>200000</td>\n",
       "      <td>1</td>\n",
       "    </tr>\n",
       "    <tr>\n",
       "      <th>1</th>\n",
       "      <td>200001</td>\n",
       "      <td>1</td>\n",
       "    </tr>\n",
       "    <tr>\n",
       "      <th>2</th>\n",
       "      <td>200002</td>\n",
       "      <td>1</td>\n",
       "    </tr>\n",
       "    <tr>\n",
       "      <th>3</th>\n",
       "      <td>200003</td>\n",
       "      <td>1</td>\n",
       "    </tr>\n",
       "    <tr>\n",
       "      <th>4</th>\n",
       "      <td>200004</td>\n",
       "      <td>0</td>\n",
       "    </tr>\n",
       "  </tbody>\n",
       "</table>\n",
       "</div>"
      ],
      "text/plain": [
       "       id  target\n",
       "0  200000       1\n",
       "1  200001       1\n",
       "2  200002       1\n",
       "3  200003       1\n",
       "4  200004       0"
      ]
     },
     "execution_count": 23,
     "metadata": {},
     "output_type": "execute_result"
    }
   ],
   "source": [
    "# предсказание и сохранение результатов\n",
    "result_predict = model_LR_CV.predict(df_test_preproc['text'])\n",
    "\n",
    "df_result = pd.DataFrame(data = {'id':df_test_preproc['id'],'target':result_predict})\n",
    "df_result.to_csv('result_submission2.csv', sep=',', index=False) # по уму надо бы проверять - а создался ли файл\n",
    "df_result.head()"
   ]
  }
 ],
 "metadata": {
  "kernelspec": {
   "display_name": "Python 3",
   "language": "python",
   "name": "python3"
  },
  "language_info": {
   "codemirror_mode": {
    "name": "ipython",
    "version": 3
   },
   "file_extension": ".py",
   "mimetype": "text/x-python",
   "name": "python",
   "nbconvert_exporter": "python",
   "pygments_lexer": "ipython3",
   "version": "3.7.0"
  }
 },
 "nbformat": 4,
 "nbformat_minor": 2
}
